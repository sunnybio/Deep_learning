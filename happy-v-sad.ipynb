{
 "cells": [
  {
   "cell_type": "code",
   "execution_count": 2,
   "metadata": {},
   "outputs": [],
   "source": [
    "import tensorflow as tf\n",
    "import os\n",
    "import zipfile\n",
    "from os import path, getcwd, chdir\n",
    "path = f\"{getcwd()}/../tmp2/happy-or-sad.zip\"\n",
    "\n",
    "zip_ref = zipfile.ZipFile(path, 'r')\n",
    "zip_ref.extractall(\"/tmp/h-or-s\")\n",
    "zip_ref.close()"
   ]
  },
  {
   "cell_type": "code",
   "execution_count": 50,
   "metadata": {},
   "outputs": [],
   "source": [
    "\n",
    "def train_happy_sad_model():\n",
    "\n",
    "    DESIRED_ACCURACY = 0.999\n",
    "\n",
    "    class myCallback(tf.keras.callbacks.Callback):\n",
    "        def on_epoch_ends(self,epoch,logs={}):\n",
    "            if(logs.get('accuracy')>.7):\n",
    "                print(\"Reached 99.9% accuracy so cancelling training!\")\n",
    "                self.model.stop_training=True\n",
    "         \n",
    "    \n",
    "    # This Code Block should Define and Compile the Model. Please assume the images are 150 X 150 in your implementation.\n",
    "    model = tf.keras.models.Sequential([\n",
    "        # Your Code Here\n",
    "        tf.keras.layers.Conv2D(16,(3,3),activation='relu', input_shape=(150,150,3)),\n",
    "        tf.keras.layers.MaxPooling2D(2,2),\n",
    "        tf.keras.layers.Conv2D(32,(3,3),activation='relu'),\n",
    "        tf.keras.layers.MaxPooling2D(2,2),\n",
    "        tf.keras.layers.Conv2D(64,(3,3),activation='relu'),\n",
    "        tf.keras.layers.MaxPooling2D(2,2),\n",
    "        tf.keras.layers.Flatten(),\n",
    "        tf.keras.layers.Dense(512,activation='relu'),\n",
    "        tf.keras.layers.Dense(256,activation='relu'),\n",
    "        tf.keras.layers.Dense(128,activation='relu'),\n",
    "        tf.keras.layers.Dense(1,activation='sigmoid')\n",
    "    ])\n",
    "\n",
    "    from tensorflow.keras.optimizers import RMSprop\n",
    "\n",
    "    model.compile(loss='binary_crossentropy',\n",
    "                 optimizer=RMSprop(lr=.0001),\n",
    "                 metrics=['accuracy'])\n",
    "        \n",
    "\n",
    "\n",
    "    from tensorflow.keras.preprocessing.image import ImageDataGenerator\n",
    "\n",
    "    train_datagen = ImageDataGenerator(rescale=1/255)\n",
    "\n",
    "    train_generator = train_datagen.flow_from_directory(\n",
    "        '/tmp/h-or-s',\n",
    "        target_size=(150,150),\n",
    "        batch_size=10,\n",
    "        class_mode='binary')\n",
    "  \n",
    "    # model fitting\n",
    "    history = model.fit_generator(\n",
    "        train_generator,\n",
    "        steps_per_epoch=8,\n",
    "        epochs=25,\n",
    "        verbose=2,\n",
    "        callbacks=[myCallback()])\n",
    "    \n",
    "    # model fitting\n",
    "    return history.history['acc'][-1]"
   ]
  },
  {
   "cell_type": "code",
   "execution_count": 51,
   "metadata": {},
   "outputs": [
    {
     "name": "stdout",
     "output_type": "stream",
     "text": [
      "Found 80 images belonging to 2 classes.\n",
      "Epoch 1/25\n",
      "8/8 - 4s - loss: 0.6613 - acc: 0.6125\n",
      "Epoch 2/25\n",
      "8/8 - 0s - loss: 0.6407 - acc: 0.7000\n",
      "Epoch 3/25\n",
      "8/8 - 1s - loss: 0.5008 - acc: 0.8375\n",
      "Epoch 4/25\n",
      "8/8 - 1s - loss: 0.4035 - acc: 0.8250\n",
      "Epoch 5/25\n",
      "8/8 - 1s - loss: 0.3292 - acc: 0.9000\n",
      "Epoch 6/25\n",
      "8/8 - 1s - loss: 0.2124 - acc: 0.9750\n",
      "Epoch 7/25\n",
      "8/8 - 0s - loss: 0.2132 - acc: 0.8875\n",
      "Epoch 8/25\n",
      "8/8 - 1s - loss: 0.1655 - acc: 0.9625\n",
      "Epoch 9/25\n",
      "8/8 - 1s - loss: 0.1475 - acc: 0.9125\n",
      "Epoch 10/25\n",
      "8/8 - 1s - loss: 0.1584 - acc: 0.9375\n",
      "Epoch 11/25\n",
      "8/8 - 1s - loss: 0.1145 - acc: 0.9375\n",
      "Epoch 12/25\n",
      "8/8 - 1s - loss: 0.0933 - acc: 0.9625\n",
      "Epoch 13/25\n",
      "8/8 - 1s - loss: 0.1060 - acc: 0.9625\n",
      "Epoch 14/25\n",
      "8/8 - 1s - loss: 0.0600 - acc: 0.9875\n",
      "Epoch 15/25\n",
      "8/8 - 1s - loss: 0.0478 - acc: 0.9875\n",
      "Epoch 16/25\n",
      "8/8 - 1s - loss: 0.1011 - acc: 0.9375\n",
      "Epoch 17/25\n",
      "8/8 - 1s - loss: 0.0627 - acc: 0.9750\n",
      "Epoch 18/25\n",
      "8/8 - 0s - loss: 0.0281 - acc: 0.9875\n",
      "Epoch 19/25\n",
      "8/8 - 1s - loss: 0.0357 - acc: 1.0000\n",
      "Epoch 20/25\n",
      "8/8 - 1s - loss: 0.0250 - acc: 1.0000\n",
      "Epoch 21/25\n",
      "8/8 - 0s - loss: 0.0521 - acc: 0.9875\n",
      "Epoch 22/25\n",
      "8/8 - 0s - loss: 0.0331 - acc: 0.9875\n",
      "Epoch 23/25\n",
      "8/8 - 0s - loss: 0.0152 - acc: 1.0000\n",
      "Epoch 24/25\n",
      "8/8 - 0s - loss: 0.0179 - acc: 1.0000\n",
      "Epoch 25/25\n",
      "8/8 - 1s - loss: 0.0628 - acc: 0.9625\n"
     ]
    },
    {
     "data": {
      "text/plain": [
       "0.9625"
      ]
     },
     "execution_count": 51,
     "metadata": {},
     "output_type": "execute_result"
    }
   ],
   "source": [
    "train_happy_sad_model()"
   ]
  }
 ],
 "metadata": {
  "coursera": {
   "course_slug": "introduction-tensorflow",
   "graded_item_id": "1kAlw",
   "launcher_item_id": "PNLYD"
  },
  "kernelspec": {
   "display_name": "Python 3",
   "language": "python",
   "name": "python3"
  },
  "language_info": {
   "codemirror_mode": {
    "name": "ipython",
    "version": 3
   },
   "file_extension": ".py",
   "mimetype": "text/x-python",
   "name": "python",
   "nbconvert_exporter": "python",
   "pygments_lexer": "ipython3",
   "version": "3.7.4"
  }
 },
 "nbformat": 4,
 "nbformat_minor": 1
}
