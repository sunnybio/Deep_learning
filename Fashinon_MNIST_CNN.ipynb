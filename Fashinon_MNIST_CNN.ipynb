{
 "cells": [
  {
   "cell_type": "markdown",
   "metadata": {
    "colab_type": "text",
    "id": "iQjHqsmTAVLU"
   },
   "source": [
    "\n",
    "Improve MNIST to 99.8% accuracy or more using only a single convolutional layer and a single MaxPooling 2D. "
   ]
  },
  {
   "cell_type": "code",
   "execution_count": 1,
   "metadata": {},
   "outputs": [],
   "source": [
    "import tensorflow as tf\n",
    "from os import path, getcwd, chdir\n",
    "\n",
    "\n",
    "path = f\"{getcwd()}/../tmp2/mnist.npz\""
   ]
  },
  {
   "cell_type": "code",
   "execution_count": 2,
   "metadata": {},
   "outputs": [],
   "source": [
    "config = tf.ConfigProto()\n",
    "config.gpu_options.allow_growth = True\n",
    "sess = tf.Session(config=config)"
   ]
  },
  {
   "cell_type": "code",
   "execution_count": 13,
   "metadata": {},
   "outputs": [],
   "source": [
    "# GRADED FUNCTION: train_mnist_conv\n",
    "def train_mnist_conv():\n",
    "    \n",
    "\n",
    "    # YOUR CODE STARTS HERE\n",
    "    class callback(tf.keras.callbacks.Callback):\n",
    "        def on_epoch_end(self,epoch,logs={}):\n",
    "            if(logs.get('acc')>.998):\n",
    "                print(\"Reached 99.8% accuracy so cancelling training\")\n",
    "                self.model.stop_training=True\n",
    "    \n",
    "\n",
    "    mnist = tf.keras.datasets.mnist\n",
    "    (training_images, training_labels), (test_images, test_labels) = mnist.load_data(path=path)\n",
    "    \n",
    "    training_images=training_images.reshape(60000,28,28,1)\n",
    "    training_images=training_images/255\n",
    "    \n",
    "    test_images=test_images.reshape(10000,28,28,1)\n",
    "    test_images=test_images/255\n",
    "    \n",
    "\n",
    "    model = tf.keras.models.Sequential([\n",
    "        \n",
    "            \n",
    "            tf.keras.layers.Conv2D(64,(3,3),activation='relu',input_shape=(28,28,1)),\n",
    "            tf.keras.layers.MaxPooling2D(2,2),\n",
    "            tf.keras.layers.Flatten(),\n",
    "            tf.keras.layers.Dense(128,activation='relu'),\n",
    "            tf.keras.layers.Dense(10,activation='softmax')\n",
    "            \n",
    "            ])\n",
    "\n",
    "    model.compile(optimizer='adam', loss='sparse_categorical_crossentropy', metrics=['accuracy'])\n",
    "    \n",
    "    history = model.fit(\n",
    "        \n",
    "        training_images,training_labels,epochs=20,callbacks=[callback()]\n",
    "        \n",
    "    )\n",
    "    \n",
    "    return history.epoch, history.history['acc'][-1]\n",
    "\n"
   ]
  },
  {
   "cell_type": "code",
   "execution_count": 14,
   "metadata": {},
   "outputs": [
    {
     "name": "stdout",
     "output_type": "stream",
     "text": [
      "Epoch 1/20\n",
      "60000/60000 [==============================] - 26s 438us/sample - loss: 0.1352 - acc: 0.9592\n",
      "Epoch 2/20\n",
      "60000/60000 [==============================] - 20s 333us/sample - loss: 0.0473 - acc: 0.9853\n",
      "Epoch 3/20\n",
      "60000/60000 [==============================] - 19s 321us/sample - loss: 0.0294 - acc: 0.9909\n",
      "Epoch 4/20\n",
      "60000/60000 [==============================] - 18s 307us/sample - loss: 0.0196 - acc: 0.9938\n",
      "Epoch 5/20\n",
      "60000/60000 [==============================] - 17s 285us/sample - loss: 0.0131 - acc: 0.9956\n",
      "Epoch 6/20\n",
      "60000/60000 [==============================] - 17s 285us/sample - loss: 0.0090 - acc: 0.9970\n",
      "Epoch 7/20\n",
      "60000/60000 [==============================] - 17s 288us/sample - loss: 0.0070 - acc: 0.9977\n",
      "Epoch 8/20\n",
      "60000/60000 [==============================] - 19s 309us/sample - loss: 0.0065 - acc: 0.9977\n",
      "Epoch 9/20\n",
      "59904/60000 [============================>.] - ETA: 0s - loss: 0.0049 - acc: 0.9984Reached 99.8% accuracy so cancelling training\n",
      "60000/60000 [==============================] - 19s 310us/sample - loss: 0.0049 - acc: 0.9984\n"
     ]
    }
   ],
   "source": [
    "_, _ = train_mnist_conv()"
   ]
  },
  {
   "cell_type": "code",
   "execution_count": null,
   "metadata": {},
   "outputs": [],
   "source": []
  },
  {
   "cell_type": "code",
   "execution_count": null,
   "metadata": {},
   "outputs": [],
   "source": []
  },
  {
   "cell_type": "code",
   "execution_count": null,
   "metadata": {},
   "outputs": [],
   "source": []
  }
 ],
 "metadata": {
  "coursera": {
   "course_slug": "introduction-tensorflow",
   "graded_item_id": "ml06H",
   "launcher_item_id": "hQF8A"
  },
  "kernelspec": {
   "display_name": "Python 3",
   "language": "python",
   "name": "python3"
  },
  "language_info": {
   "codemirror_mode": {
    "name": "ipython",
    "version": 3
   },
   "file_extension": ".py",
   "mimetype": "text/x-python",
   "name": "python",
   "nbconvert_exporter": "python",
   "pygments_lexer": "ipython3",
   "version": "3.7.4"
  }
 },
 "nbformat": 4,
 "nbformat_minor": 1
}
