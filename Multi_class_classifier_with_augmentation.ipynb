{
 "cells": [
  {
   "cell_type": "code",
   "execution_count": 1,
   "metadata": {
    "colab": {},
    "colab_type": "code",
    "id": "wYtuKeK0dImp"
   },
   "outputs": [],
   "source": [
    "import csv\n",
    "import numpy as np\n",
    "import tensorflow as tf\n",
    "from tensorflow.keras.preprocessing.image import ImageDataGenerator\n",
    "from os import getcwd"
   ]
  },
  {
   "cell_type": "code",
   "execution_count": 2,
   "metadata": {
    "colab": {},
    "colab_type": "code",
    "id": "4kxw-_rmcnVu"
   },
   "outputs": [
    {
     "name": "stdout",
     "output_type": "stream",
     "text": [
      "(27455, 28, 28)\n",
      "(27455,)\n",
      "(7172, 28, 28)\n",
      "(7172,)\n"
     ]
    }
   ],
   "source": [
    "def get_data(filename):\n",
    "    with open(filename) as training_file:\n",
    "        reader = csv.reader(training_file, delimiter=',')    \n",
    "        imgs = []\n",
    "        labels = []\n",
    "\n",
    "        next(reader, None)\n",
    "        \n",
    "        for row in reader:\n",
    "            label = row[0]\n",
    "            data = row[1:]\n",
    "            img = np.array(data).reshape((28, 28))\n",
    "\n",
    "            imgs.append(img)\n",
    "            labels.append(label)\n",
    "\n",
    "        images = np.array(imgs).astype(float)\n",
    "        labels = np.array(labels).astype(float)\n",
    "    return images, labels\n",
    "\n",
    "path_sign_mnist_train = f\"{getcwd()}/../tmp2/sign_mnist_train.csv\"\n",
    "path_sign_mnist_test = f\"{getcwd()}/../tmp2/sign_mnist_test.csv\"\n",
    "training_images, training_labels = get_data(path_sign_mnist_train)\n",
    "testing_images, testing_labels = get_data(path_sign_mnist_test)\n",
    "\n",
    "\n",
    "print(training_images.shape)\n",
    "print(training_labels.shape)\n",
    "print(testing_images.shape)\n",
    "print(testing_labels.shape)\n",
    "\n"
   ]
  },
  {
   "cell_type": "code",
   "execution_count": 3,
   "metadata": {},
   "outputs": [
    {
     "data": {
      "text/plain": [
       "array([ 0.,  1.,  2.,  3.,  4.,  5.,  6.,  7.,  8., 10., 11., 12., 13.,\n",
       "       14., 15., 16., 17., 18., 19., 20., 21., 22., 23., 24.])"
      ]
     },
     "execution_count": 3,
     "metadata": {},
     "output_type": "execute_result"
    }
   ],
   "source": [
    "np.unique(training_labels)"
   ]
  },
  {
   "cell_type": "code",
   "execution_count": 4,
   "metadata": {
    "colab": {},
    "colab_type": "code",
    "id": "awoqRpyZdQkD"
   },
   "outputs": [
    {
     "name": "stdout",
     "output_type": "stream",
     "text": [
      "(27455, 28, 28, 1)\n",
      "(7172, 28, 28, 1)\n"
     ]
    }
   ],
   "source": [
    "training_images = np.expand_dims(training_images,axis=3)\n",
    "testing_images = np.expand_dims(testing_images,axis=3)\n",
    "\n",
    "# Create an ImageDataGenerator and do Image Augmentation\n",
    "train_datagen = ImageDataGenerator(\n",
    "    rescale=1./255.,\n",
    "    horizontal_flip=True,\n",
    "    width_shift_range=.2,\n",
    "    height_shift_range=.2,\n",
    "    shear_range=.2,\n",
    "    zoom_range=.2,\n",
    "    rotation_range=40,\n",
    "    fill_mode='nearest'\n",
    "    )\n",
    "\n",
    "validation_datagen = ImageDataGenerator(\n",
    "    rescale=1./255.)\n",
    "    \n",
    "\n",
    "print(training_images.shape)\n",
    "print(testing_images.shape)\n"
   ]
  },
  {
   "cell_type": "code",
   "execution_count": 5,
   "metadata": {
    "colab": {},
    "colab_type": "code",
    "id": "Rmb7S32cgRqS"
   },
   "outputs": [
    {
     "name": "stdout",
     "output_type": "stream",
     "text": [
      "Epoch 1/25\n",
      "429/429 [==============================] - 49s 114ms/step - loss: 2.7288 - accuracy: 0.1711 - val_loss: 2.0025 - val_accuracy: 0.3596\n",
      "Epoch 2/25\n",
      "429/429 [==============================] - 43s 101ms/step - loss: 1.9777 - accuracy: 0.3779 - val_loss: 1.2059 - val_accuracy: 0.5870\n",
      "Epoch 3/25\n",
      "429/429 [==============================] - 44s 102ms/step - loss: 1.6071 - accuracy: 0.4832 - val_loss: 1.0117 - val_accuracy: 0.6358\n",
      "Epoch 4/25\n",
      "429/429 [==============================] - 44s 102ms/step - loss: 1.3515 - accuracy: 0.5583 - val_loss: 0.7971 - val_accuracy: 0.7263\n",
      "Epoch 5/25\n",
      "429/429 [==============================] - 45s 104ms/step - loss: 1.1552 - accuracy: 0.6236 - val_loss: 0.5867 - val_accuracy: 0.7927\n",
      "Epoch 6/25\n",
      "429/429 [==============================] - 42s 98ms/step - loss: 1.0156 - accuracy: 0.6692 - val_loss: 0.6368 - val_accuracy: 0.7821\n",
      "Epoch 7/25\n",
      "429/429 [==============================] - 42s 98ms/step - loss: 0.9272 - accuracy: 0.6966 - val_loss: 0.7293 - val_accuracy: 0.7160\n",
      "Epoch 8/25\n",
      "429/429 [==============================] - 43s 100ms/step - loss: 0.8193 - accuracy: 0.7303 - val_loss: 0.4180 - val_accuracy: 0.8523\n",
      "Epoch 9/25\n",
      "429/429 [==============================] - 44s 103ms/step - loss: 0.7507 - accuracy: 0.7505 - val_loss: 0.3859 - val_accuracy: 0.8653\n",
      "Epoch 10/25\n",
      "429/429 [==============================] - 44s 102ms/step - loss: 0.6782 - accuracy: 0.7748 - val_loss: 0.3577 - val_accuracy: 0.8844\n",
      "Epoch 11/25\n",
      "429/429 [==============================] - 43s 100ms/step - loss: 0.6324 - accuracy: 0.7894 - val_loss: 0.3543 - val_accuracy: 0.8645\n",
      "Epoch 12/25\n",
      "429/429 [==============================] - 43s 101ms/step - loss: 0.5839 - accuracy: 0.8036 - val_loss: 0.3231 - val_accuracy: 0.8786\n",
      "Epoch 13/25\n",
      "429/429 [==============================] - 45s 105ms/step - loss: 0.5451 - accuracy: 0.8189 - val_loss: 0.2802 - val_accuracy: 0.9080\n",
      "Epoch 14/25\n",
      "429/429 [==============================] - 42s 98ms/step - loss: 0.5114 - accuracy: 0.8285 - val_loss: 0.1724 - val_accuracy: 0.9431\n",
      "Epoch 15/25\n",
      "429/429 [==============================] - 43s 101ms/step - loss: 0.4821 - accuracy: 0.8393 - val_loss: 0.1983 - val_accuracy: 0.9354\n",
      "Epoch 16/25\n",
      "429/429 [==============================] - 47s 110ms/step - loss: 0.4449 - accuracy: 0.8518 - val_loss: 0.1824 - val_accuracy: 0.9342\n",
      "Epoch 17/25\n",
      "429/429 [==============================] - 47s 109ms/step - loss: 0.4272 - accuracy: 0.8575 - val_loss: 0.1839 - val_accuracy: 0.9375\n",
      "Epoch 18/25\n",
      "429/429 [==============================] - 45s 104ms/step - loss: 0.4000 - accuracy: 0.8660 - val_loss: 0.1585 - val_accuracy: 0.9460\n",
      "Epoch 19/25\n",
      "429/429 [==============================] - 47s 109ms/step - loss: 0.3899 - accuracy: 0.8730 - val_loss: 0.1451 - val_accuracy: 0.9492\n",
      "Epoch 20/25\n",
      "429/429 [==============================] - 46s 107ms/step - loss: 0.3721 - accuracy: 0.8758 - val_loss: 0.1399 - val_accuracy: 0.9409\n",
      "Epoch 21/25\n",
      "429/429 [==============================] - 48s 111ms/step - loss: 0.3575 - accuracy: 0.8800 - val_loss: 0.1711 - val_accuracy: 0.9435\n",
      "Epoch 22/25\n",
      "429/429 [==============================] - 46s 106ms/step - loss: 0.3427 - accuracy: 0.8868 - val_loss: 0.1153 - val_accuracy: 0.9596\n",
      "Epoch 23/25\n",
      "429/429 [==============================] - 47s 110ms/step - loss: 0.3219 - accuracy: 0.8924 - val_loss: 0.1307 - val_accuracy: 0.9561\n",
      "Epoch 24/25\n",
      "429/429 [==============================] - 46s 107ms/step - loss: 0.3186 - accuracy: 0.8937 - val_loss: 0.1136 - val_accuracy: 0.9678\n",
      "Epoch 25/25\n",
      "429/429 [==============================] - 48s 111ms/step - loss: 0.3058 - accuracy: 0.8959 - val_loss: 0.1158 - val_accuracy: 0.9642\n"
     ]
    },
    {
     "data": {
      "text/plain": [
       "[208.60405741838923, 0.68377024]"
      ]
     },
     "execution_count": 5,
     "metadata": {},
     "output_type": "execute_result"
    }
   ],
   "source": [
    "# Define the model\n",
    "model = tf.keras.models.Sequential([\n",
    "    tf.keras.layers.Conv2D(32,(3,3),activation='relu',input_shape=(28,28,1)),\n",
    "    tf.keras.layers.MaxPooling2D(2,2),\n",
    "    tf.keras.layers.Conv2D(64,(3,3),activation='relu'),\n",
    "    tf.keras.layers.MaxPooling2D(2,2),\n",
    "    tf.keras.layers.Flatten(),\n",
    "    tf.keras.layers.Dense(512,activation='relu'),\n",
    "    tf.keras.layers.Dense(25,activation='softmax')\n",
    "])\n",
    "\n",
    "# Compile Model. \n",
    "model.compile(optimizer='adam',\n",
    "              loss='sparse_categorical_crossentropy',\n",
    "             metrics=['accuracy'])\n",
    "\n",
    "train_gen=train_datagen.flow(training_images,\n",
    "                            training_labels,\n",
    "                            batch_size=64)\n",
    "val_gen=validation_datagen.flow(testing_images,\n",
    "                                testing_labels,\n",
    "                               batch_size=64)\n",
    "\n",
    "# Train the Model\n",
    "history = model.fit_generator(train_gen,\n",
    "                              epochs=25,\n",
    "                             validation_data=val_gen)\n",
    "\n",
    "model.evaluate(testing_images, testing_labels, verbose=0)"
   ]
  },
  {
   "cell_type": "code",
   "execution_count": 7,
   "metadata": {
    "colab": {},
    "colab_type": "code",
    "id": "_Q3Zpr46dsij"
   },
   "outputs": [
    {
     "data": {
      "image/png": "[encoded data removed]",
      "text/plain": [
       "<Figure size 432x288 with 1 Axes>"
      ]
     },
     "metadata": {
      "needs_background": "light"
     },
     "output_type": "display_data"
    },
    {
     "data": {
      "image/png": "[encoded data removed]",
      "text/plain": [
       "<Figure size 432x288 with 1 Axes>"
      ]
     },
     "metadata": {
      "needs_background": "light"
     },
     "output_type": "display_data"
    }
   ],
   "source": [
    "# Plot the chart for accuracy and loss on both training and validation\n",
    "%matplotlib inline\n",
    "import matplotlib.pyplot as plt\n",
    "acc = history.history['accuracy']\n",
    "val_acc = history.history['val_accuracy']\n",
    "loss = history.history['loss']\n",
    "val_loss = history.history['val_loss']\n",
    "\n",
    "epochs = range(len(acc))\n",
    "\n",
    "plt.plot(epochs, acc, 'r', label='Training accuracy')\n",
    "plt.plot(epochs, val_acc, 'b', label='Validation accuracy')\n",
    "plt.title('Training and validation accuracy')\n",
    "plt.legend()\n",
    "plt.figure()\n",
    "\n",
    "plt.plot(epochs, loss, 'r', label='Training Loss')\n",
    "plt.plot(epochs, val_loss, 'b', label='Validation Loss')\n",
    "plt.title('Training and validation loss')\n",
    "plt.legend()\n",
    "\n",
    "plt.show()"
   ]
  },
  {
   "cell_type": "code",
   "execution_count": null,
   "metadata": {},
   "outputs": [],
   "source": []
  }
 ],
 "metadata": {
  "colab": {
   "name": "Exercise 8 - Question.ipynb",
   "provenance": []
  },
  "coursera": {
   "course_slug": "convolutional-neural-networks-tensorflow",
   "graded_item_id": "8mIh8",
   "launcher_item_id": "gg95t"
  },
  "kernelspec": {
   "display_name": "Python 3",
   "language": "python",
   "name": "python3"
  },
  "language_info": {
   "codemirror_mode": {
    "name": "ipython",
    "version": 3
   },
   "file_extension": ".py",
   "mimetype": "text/x-python",
   "name": "python",
   "nbconvert_exporter": "python",
   "pygments_lexer": "ipython3",
   "version": "3.6.8"
  }
 },
 "nbformat": 4,
 "nbformat_minor": 1
}
